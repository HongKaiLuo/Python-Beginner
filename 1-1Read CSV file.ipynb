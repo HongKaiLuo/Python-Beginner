{
 "cells": [
  {
   "cell_type": "code",
   "execution_count": 1,
   "id": "0cf2a120-2fc6-4277-bdd9-28ce58a6f41a",
   "metadata": {},
   "outputs": [
    {
     "name": "stdout",
     "output_type": "stream",
     "text": [
      "Hello python\n"
     ]
    }
   ],
   "source": [
    "print(\"Hello python\")"
   ]
  },
  {
   "cell_type": "code",
   "execution_count": 13,
   "id": "d80b8f58-0d9e-40e9-af77-f2b863d8b071",
   "metadata": {},
   "outputs": [],
   "source": [
    "import pandas as pd\n",
    "df=pd.read_csv('C:/Users/ivan/Desktop/FL_insurance_sample1.csv',sep=',',nrows=10)"
   ]
  },
  {
   "cell_type": "code",
   "execution_count": 14,
   "id": "58c90185-731d-4140-8a36-24b78f737cd3",
   "metadata": {},
   "outputs": [
    {
     "data": {
      "text/html": [
       "<div>\n",
       "<style scoped>\n",
       "    .dataframe tbody tr th:only-of-type {\n",
       "        vertical-align: middle;\n",
       "    }\n",
       "\n",
       "    .dataframe tbody tr th {\n",
       "        vertical-align: top;\n",
       "    }\n",
       "\n",
       "    .dataframe thead th {\n",
       "        text-align: right;\n",
       "    }\n",
       "</style>\n",
       "<table border=\"1\" class=\"dataframe\">\n",
       "  <thead>\n",
       "    <tr style=\"text-align: right;\">\n",
       "      <th></th>\n",
       "      <th>policyID</th>\n",
       "      <th>statecode</th>\n",
       "      <th>county</th>\n",
       "      <th>eq_site_limit</th>\n",
       "      <th>hu_site_limit</th>\n",
       "      <th>fl_site_limit</th>\n",
       "      <th>fr_site_limit</th>\n",
       "      <th>tiv_2011</th>\n",
       "      <th>tiv_2012</th>\n",
       "      <th>eq_site_deductible</th>\n",
       "      <th>hu_site_deductible</th>\n",
       "      <th>fl_site_deductible</th>\n",
       "      <th>fr_site_deductible</th>\n",
       "      <th>point_latitude</th>\n",
       "      <th>point_longitude</th>\n",
       "      <th>line</th>\n",
       "      <th>construction</th>\n",
       "      <th>point_granularity</th>\n",
       "    </tr>\n",
       "  </thead>\n",
       "  <tbody>\n",
       "    <tr>\n",
       "      <th>0</th>\n",
       "      <td>119736</td>\n",
       "      <td>FL</td>\n",
       "      <td>CLAY COUNTY</td>\n",
       "      <td>498960.0</td>\n",
       "      <td>498960.00</td>\n",
       "      <td>498960.0</td>\n",
       "      <td>498960.0</td>\n",
       "      <td>498960.00</td>\n",
       "      <td>792148.90</td>\n",
       "      <td>0</td>\n",
       "      <td>9979.2</td>\n",
       "      <td>0</td>\n",
       "      <td>0</td>\n",
       "      <td>30.102261</td>\n",
       "      <td>-81.711777</td>\n",
       "      <td>Residential</td>\n",
       "      <td>Masonry</td>\n",
       "      <td>1</td>\n",
       "    </tr>\n",
       "    <tr>\n",
       "      <th>1</th>\n",
       "      <td>448094</td>\n",
       "      <td>FL</td>\n",
       "      <td>CLAY COUNTY</td>\n",
       "      <td>1322376.3</td>\n",
       "      <td>1322376.30</td>\n",
       "      <td>1322376.3</td>\n",
       "      <td>1322376.3</td>\n",
       "      <td>1322376.30</td>\n",
       "      <td>1438163.57</td>\n",
       "      <td>0</td>\n",
       "      <td>0.0</td>\n",
       "      <td>0</td>\n",
       "      <td>0</td>\n",
       "      <td>30.063936</td>\n",
       "      <td>-81.707664</td>\n",
       "      <td>Residential</td>\n",
       "      <td>Masonry</td>\n",
       "      <td>3</td>\n",
       "    </tr>\n",
       "    <tr>\n",
       "      <th>2</th>\n",
       "      <td>206893</td>\n",
       "      <td>FL</td>\n",
       "      <td>CLAY COUNTY</td>\n",
       "      <td>190724.4</td>\n",
       "      <td>190724.40</td>\n",
       "      <td>190724.4</td>\n",
       "      <td>190724.4</td>\n",
       "      <td>190724.40</td>\n",
       "      <td>192476.78</td>\n",
       "      <td>0</td>\n",
       "      <td>0.0</td>\n",
       "      <td>0</td>\n",
       "      <td>0</td>\n",
       "      <td>30.089579</td>\n",
       "      <td>-81.700455</td>\n",
       "      <td>Residential</td>\n",
       "      <td>Wood</td>\n",
       "      <td>1</td>\n",
       "    </tr>\n",
       "    <tr>\n",
       "      <th>3</th>\n",
       "      <td>333743</td>\n",
       "      <td>FL</td>\n",
       "      <td>CLAY COUNTY</td>\n",
       "      <td>0.0</td>\n",
       "      <td>79520.76</td>\n",
       "      <td>0.0</td>\n",
       "      <td>0.0</td>\n",
       "      <td>79520.76</td>\n",
       "      <td>86854.48</td>\n",
       "      <td>0</td>\n",
       "      <td>0.0</td>\n",
       "      <td>0</td>\n",
       "      <td>0</td>\n",
       "      <td>30.063236</td>\n",
       "      <td>-81.707703</td>\n",
       "      <td>Residential</td>\n",
       "      <td>Wood</td>\n",
       "      <td>3</td>\n",
       "    </tr>\n",
       "    <tr>\n",
       "      <th>4</th>\n",
       "      <td>172534</td>\n",
       "      <td>FL</td>\n",
       "      <td>CLAY COUNTY</td>\n",
       "      <td>0.0</td>\n",
       "      <td>254281.50</td>\n",
       "      <td>0.0</td>\n",
       "      <td>254281.5</td>\n",
       "      <td>254281.50</td>\n",
       "      <td>246144.49</td>\n",
       "      <td>0</td>\n",
       "      <td>0.0</td>\n",
       "      <td>0</td>\n",
       "      <td>0</td>\n",
       "      <td>30.060614</td>\n",
       "      <td>-81.702675</td>\n",
       "      <td>Residential</td>\n",
       "      <td>Wood</td>\n",
       "      <td>1</td>\n",
       "    </tr>\n",
       "    <tr>\n",
       "      <th>5</th>\n",
       "      <td>785275</td>\n",
       "      <td>FL</td>\n",
       "      <td>CLAY COUNTY</td>\n",
       "      <td>0.0</td>\n",
       "      <td>515035.62</td>\n",
       "      <td>0.0</td>\n",
       "      <td>0.0</td>\n",
       "      <td>515035.62</td>\n",
       "      <td>884419.17</td>\n",
       "      <td>0</td>\n",
       "      <td>0.0</td>\n",
       "      <td>0</td>\n",
       "      <td>0</td>\n",
       "      <td>30.063236</td>\n",
       "      <td>-81.707703</td>\n",
       "      <td>Residential</td>\n",
       "      <td>Masonry</td>\n",
       "      <td>3</td>\n",
       "    </tr>\n",
       "    <tr>\n",
       "      <th>6</th>\n",
       "      <td>995932</td>\n",
       "      <td>FL</td>\n",
       "      <td>CLAY COUNTY</td>\n",
       "      <td>0.0</td>\n",
       "      <td>19260000.00</td>\n",
       "      <td>0.0</td>\n",
       "      <td>0.0</td>\n",
       "      <td>19260000.00</td>\n",
       "      <td>20610000.00</td>\n",
       "      <td>0</td>\n",
       "      <td>0.0</td>\n",
       "      <td>0</td>\n",
       "      <td>0</td>\n",
       "      <td>30.102226</td>\n",
       "      <td>-81.713882</td>\n",
       "      <td>Commercial</td>\n",
       "      <td>Reinforced Concrete</td>\n",
       "      <td>1</td>\n",
       "    </tr>\n",
       "    <tr>\n",
       "      <th>7</th>\n",
       "      <td>223488</td>\n",
       "      <td>FL</td>\n",
       "      <td>CLAY COUNTY</td>\n",
       "      <td>328500.0</td>\n",
       "      <td>328500.00</td>\n",
       "      <td>328500.0</td>\n",
       "      <td>328500.0</td>\n",
       "      <td>328500.00</td>\n",
       "      <td>348374.25</td>\n",
       "      <td>0</td>\n",
       "      <td>16425.0</td>\n",
       "      <td>0</td>\n",
       "      <td>0</td>\n",
       "      <td>30.102217</td>\n",
       "      <td>-81.707146</td>\n",
       "      <td>Residential</td>\n",
       "      <td>Wood</td>\n",
       "      <td>1</td>\n",
       "    </tr>\n",
       "    <tr>\n",
       "      <th>8</th>\n",
       "      <td>433512</td>\n",
       "      <td>FL</td>\n",
       "      <td>CLAY COUNTY</td>\n",
       "      <td>315000.0</td>\n",
       "      <td>315000.00</td>\n",
       "      <td>315000.0</td>\n",
       "      <td>315000.0</td>\n",
       "      <td>315000.00</td>\n",
       "      <td>265821.57</td>\n",
       "      <td>0</td>\n",
       "      <td>15750.0</td>\n",
       "      <td>0</td>\n",
       "      <td>0</td>\n",
       "      <td>30.118774</td>\n",
       "      <td>-81.704613</td>\n",
       "      <td>Residential</td>\n",
       "      <td>Wood</td>\n",
       "      <td>1</td>\n",
       "    </tr>\n",
       "    <tr>\n",
       "      <th>9</th>\n",
       "      <td>142071</td>\n",
       "      <td>FL</td>\n",
       "      <td>CLAY COUNTY</td>\n",
       "      <td>705600.0</td>\n",
       "      <td>705600.00</td>\n",
       "      <td>705600.0</td>\n",
       "      <td>705600.0</td>\n",
       "      <td>705600.00</td>\n",
       "      <td>1010842.56</td>\n",
       "      <td>14112</td>\n",
       "      <td>35280.0</td>\n",
       "      <td>0</td>\n",
       "      <td>0</td>\n",
       "      <td>30.100628</td>\n",
       "      <td>-81.703751</td>\n",
       "      <td>Residential</td>\n",
       "      <td>Masonry</td>\n",
       "      <td>1</td>\n",
       "    </tr>\n",
       "  </tbody>\n",
       "</table>\n",
       "</div>"
      ],
      "text/plain": [
       "   policyID statecode       county  eq_site_limit  hu_site_limit  \\\n",
       "0    119736        FL  CLAY COUNTY       498960.0      498960.00   \n",
       "1    448094        FL  CLAY COUNTY      1322376.3     1322376.30   \n",
       "2    206893        FL  CLAY COUNTY       190724.4      190724.40   \n",
       "3    333743        FL  CLAY COUNTY            0.0       79520.76   \n",
       "4    172534        FL  CLAY COUNTY            0.0      254281.50   \n",
       "5    785275        FL  CLAY COUNTY            0.0      515035.62   \n",
       "6    995932        FL  CLAY COUNTY            0.0    19260000.00   \n",
       "7    223488        FL  CLAY COUNTY       328500.0      328500.00   \n",
       "8    433512        FL  CLAY COUNTY       315000.0      315000.00   \n",
       "9    142071        FL  CLAY COUNTY       705600.0      705600.00   \n",
       "\n",
       "   fl_site_limit  fr_site_limit     tiv_2011     tiv_2012  eq_site_deductible  \\\n",
       "0       498960.0       498960.0    498960.00    792148.90                   0   \n",
       "1      1322376.3      1322376.3   1322376.30   1438163.57                   0   \n",
       "2       190724.4       190724.4    190724.40    192476.78                   0   \n",
       "3            0.0            0.0     79520.76     86854.48                   0   \n",
       "4            0.0       254281.5    254281.50    246144.49                   0   \n",
       "5            0.0            0.0    515035.62    884419.17                   0   \n",
       "6            0.0            0.0  19260000.00  20610000.00                   0   \n",
       "7       328500.0       328500.0    328500.00    348374.25                   0   \n",
       "8       315000.0       315000.0    315000.00    265821.57                   0   \n",
       "9       705600.0       705600.0    705600.00   1010842.56               14112   \n",
       "\n",
       "   hu_site_deductible  fl_site_deductible  fr_site_deductible  point_latitude  \\\n",
       "0              9979.2                   0                   0       30.102261   \n",
       "1                 0.0                   0                   0       30.063936   \n",
       "2                 0.0                   0                   0       30.089579   \n",
       "3                 0.0                   0                   0       30.063236   \n",
       "4                 0.0                   0                   0       30.060614   \n",
       "5                 0.0                   0                   0       30.063236   \n",
       "6                 0.0                   0                   0       30.102226   \n",
       "7             16425.0                   0                   0       30.102217   \n",
       "8             15750.0                   0                   0       30.118774   \n",
       "9             35280.0                   0                   0       30.100628   \n",
       "\n",
       "   point_longitude         line         construction  point_granularity  \n",
       "0       -81.711777  Residential              Masonry                  1  \n",
       "1       -81.707664  Residential              Masonry                  3  \n",
       "2       -81.700455  Residential                 Wood                  1  \n",
       "3       -81.707703  Residential                 Wood                  3  \n",
       "4       -81.702675  Residential                 Wood                  1  \n",
       "5       -81.707703  Residential              Masonry                  3  \n",
       "6       -81.713882   Commercial  Reinforced Concrete                  1  \n",
       "7       -81.707146  Residential                 Wood                  1  \n",
       "8       -81.704613  Residential                 Wood                  1  \n",
       "9       -81.703751  Residential              Masonry                  1  "
      ]
     },
     "execution_count": 14,
     "metadata": {},
     "output_type": "execute_result"
    }
   ],
   "source": [
    "df.head(10)"
   ]
  },
  {
   "cell_type": "code",
   "execution_count": 15,
   "id": "697beded-8b69-4138-8580-a5119e631cad",
   "metadata": {},
   "outputs": [],
   "source": [
    "import pandas as pd\n",
    "import numpy as np"
   ]
  },
  {
   "cell_type": "code",
   "execution_count": 17,
   "id": "10c5a9a4-6580-4c4f-963b-539c59d5712d",
   "metadata": {},
   "outputs": [
    {
     "data": {
      "text/html": [
       "<div>\n",
       "<style scoped>\n",
       "    .dataframe tbody tr th:only-of-type {\n",
       "        vertical-align: middle;\n",
       "    }\n",
       "\n",
       "    .dataframe tbody tr th {\n",
       "        vertical-align: top;\n",
       "    }\n",
       "\n",
       "    .dataframe thead th {\n",
       "        text-align: right;\n",
       "    }\n",
       "</style>\n",
       "<table border=\"1\" class=\"dataframe\">\n",
       "  <thead>\n",
       "    <tr style=\"text-align: right;\">\n",
       "      <th></th>\n",
       "      <th>A</th>\n",
       "      <th>B</th>\n",
       "      <th>C</th>\n",
       "    </tr>\n",
       "  </thead>\n",
       "  <tbody>\n",
       "    <tr>\n",
       "      <th>0</th>\n",
       "      <td>8</td>\n",
       "      <td>5</td>\n",
       "      <td>1</td>\n",
       "    </tr>\n",
       "    <tr>\n",
       "      <th>1</th>\n",
       "      <td>3</td>\n",
       "      <td>7</td>\n",
       "      <td>2</td>\n",
       "    </tr>\n",
       "    <tr>\n",
       "      <th>2</th>\n",
       "      <td>7</td>\n",
       "      <td>9</td>\n",
       "      <td>9</td>\n",
       "    </tr>\n",
       "    <tr>\n",
       "      <th>3</th>\n",
       "      <td>4</td>\n",
       "      <td>7</td>\n",
       "      <td>5</td>\n",
       "    </tr>\n",
       "    <tr>\n",
       "      <th>4</th>\n",
       "      <td>9</td>\n",
       "      <td>1</td>\n",
       "      <td>1</td>\n",
       "    </tr>\n",
       "  </tbody>\n",
       "</table>\n",
       "</div>"
      ],
      "text/plain": [
       "   A  B  C\n",
       "0  8  5  1\n",
       "1  3  7  2\n",
       "2  7  9  9\n",
       "3  4  7  5\n",
       "4  9  1  1"
      ]
     },
     "execution_count": 17,
     "metadata": {},
     "output_type": "execute_result"
    }
   ],
   "source": [
    "data=np.random.randint(1,10,(5,3))\n",
    "df=pd.DataFrame(data, columns=list('ABC'))\n",
    "df"
   ]
  },
  {
   "cell_type": "code",
   "execution_count": 18,
   "id": "f87c0322-148f-42d0-8f11-52ebaceea7e3",
   "metadata": {},
   "outputs": [],
   "source": [
    "# file name for csv\n",
    "df.to_csv(\"spam.csv\")"
   ]
  },
  {
   "cell_type": "code",
   "execution_count": 19,
   "id": "91e18782-eefe-481d-90a5-9c3c813b181d",
   "metadata": {},
   "outputs": [],
   "source": [
    "df_load=pd.read_csv(\"spam.csv\")"
   ]
  },
  {
   "cell_type": "code",
   "execution_count": 20,
   "id": "c0fb6918-867d-42c4-983e-f6dc45700ddd",
   "metadata": {},
   "outputs": [
    {
     "data": {
      "text/html": [
       "<div>\n",
       "<style scoped>\n",
       "    .dataframe tbody tr th:only-of-type {\n",
       "        vertical-align: middle;\n",
       "    }\n",
       "\n",
       "    .dataframe tbody tr th {\n",
       "        vertical-align: top;\n",
       "    }\n",
       "\n",
       "    .dataframe thead th {\n",
       "        text-align: right;\n",
       "    }\n",
       "</style>\n",
       "<table border=\"1\" class=\"dataframe\">\n",
       "  <thead>\n",
       "    <tr style=\"text-align: right;\">\n",
       "      <th></th>\n",
       "      <th>Unnamed: 0</th>\n",
       "      <th>A</th>\n",
       "      <th>B</th>\n",
       "      <th>C</th>\n",
       "    </tr>\n",
       "  </thead>\n",
       "  <tbody>\n",
       "    <tr>\n",
       "      <th>0</th>\n",
       "      <td>0</td>\n",
       "      <td>8</td>\n",
       "      <td>5</td>\n",
       "      <td>1</td>\n",
       "    </tr>\n",
       "    <tr>\n",
       "      <th>1</th>\n",
       "      <td>1</td>\n",
       "      <td>3</td>\n",
       "      <td>7</td>\n",
       "      <td>2</td>\n",
       "    </tr>\n",
       "    <tr>\n",
       "      <th>2</th>\n",
       "      <td>2</td>\n",
       "      <td>7</td>\n",
       "      <td>9</td>\n",
       "      <td>9</td>\n",
       "    </tr>\n",
       "    <tr>\n",
       "      <th>3</th>\n",
       "      <td>3</td>\n",
       "      <td>4</td>\n",
       "      <td>7</td>\n",
       "      <td>5</td>\n",
       "    </tr>\n",
       "    <tr>\n",
       "      <th>4</th>\n",
       "      <td>4</td>\n",
       "      <td>9</td>\n",
       "      <td>1</td>\n",
       "      <td>1</td>\n",
       "    </tr>\n",
       "  </tbody>\n",
       "</table>\n",
       "</div>"
      ],
      "text/plain": [
       "   Unnamed: 0  A  B  C\n",
       "0           0  8  5  1\n",
       "1           1  3  7  2\n",
       "2           2  7  9  9\n",
       "3           3  4  7  5\n",
       "4           4  9  1  1"
      ]
     },
     "execution_count": 20,
     "metadata": {},
     "output_type": "execute_result"
    }
   ],
   "source": [
    "df_load"
   ]
  },
  {
   "cell_type": "code",
   "execution_count": 21,
   "id": "71b15873-9cf8-4562-9cdf-d99d3a41c67f",
   "metadata": {},
   "outputs": [
    {
     "data": {
      "text/plain": [
       "\u001b[1;31mSignature:\u001b[0m\n",
       "\u001b[0mpd\u001b[0m\u001b[1;33m.\u001b[0m\u001b[0mread_csv\u001b[0m\u001b[1;33m(\u001b[0m\u001b[1;33m\n",
       "\u001b[0m    \u001b[0mfilepath_or_buffer\u001b[0m\u001b[1;33m:\u001b[0m \u001b[1;34m'FilePath | ReadCsvBuffer[bytes] | ReadCsvBuffer[str]'\u001b[0m\u001b[1;33m,\u001b[0m\u001b[1;33m\n",
       "\u001b[0m    \u001b[1;33m*\u001b[0m\u001b[1;33m,\u001b[0m\u001b[1;33m\n",
       "\u001b[0m    \u001b[0msep\u001b[0m\u001b[1;33m:\u001b[0m \u001b[1;34m'str | None | lib.NoDefault'\u001b[0m \u001b[1;33m=\u001b[0m \u001b[1;33m<\u001b[0m\u001b[0mno_default\u001b[0m\u001b[1;33m>\u001b[0m\u001b[1;33m,\u001b[0m\u001b[1;33m\n",
       "\u001b[0m    \u001b[0mdelimiter\u001b[0m\u001b[1;33m:\u001b[0m \u001b[1;34m'str | None | lib.NoDefault'\u001b[0m \u001b[1;33m=\u001b[0m \u001b[1;32mNone\u001b[0m\u001b[1;33m,\u001b[0m\u001b[1;33m\n",
       "\u001b[0m    \u001b[0mheader\u001b[0m\u001b[1;33m:\u001b[0m \u001b[1;34m\"int | Sequence[int] | None | Literal['infer']\"\u001b[0m \u001b[1;33m=\u001b[0m \u001b[1;34m'infer'\u001b[0m\u001b[1;33m,\u001b[0m\u001b[1;33m\n",
       "\u001b[0m    \u001b[0mnames\u001b[0m\u001b[1;33m:\u001b[0m \u001b[1;34m'Sequence[Hashable] | None | lib.NoDefault'\u001b[0m \u001b[1;33m=\u001b[0m \u001b[1;33m<\u001b[0m\u001b[0mno_default\u001b[0m\u001b[1;33m>\u001b[0m\u001b[1;33m,\u001b[0m\u001b[1;33m\n",
       "\u001b[0m    \u001b[0mindex_col\u001b[0m\u001b[1;33m:\u001b[0m \u001b[1;34m'IndexLabel | Literal[False] | None'\u001b[0m \u001b[1;33m=\u001b[0m \u001b[1;32mNone\u001b[0m\u001b[1;33m,\u001b[0m\u001b[1;33m\n",
       "\u001b[0m    \u001b[0musecols\u001b[0m\u001b[1;33m:\u001b[0m \u001b[1;34m'list[HashableT] | Callable[[Hashable], bool] | None'\u001b[0m \u001b[1;33m=\u001b[0m \u001b[1;32mNone\u001b[0m\u001b[1;33m,\u001b[0m\u001b[1;33m\n",
       "\u001b[0m    \u001b[0mdtype\u001b[0m\u001b[1;33m:\u001b[0m \u001b[1;34m'DtypeArg | None'\u001b[0m \u001b[1;33m=\u001b[0m \u001b[1;32mNone\u001b[0m\u001b[1;33m,\u001b[0m\u001b[1;33m\n",
       "\u001b[0m    \u001b[0mengine\u001b[0m\u001b[1;33m:\u001b[0m \u001b[1;34m'CSVEngine | None'\u001b[0m \u001b[1;33m=\u001b[0m \u001b[1;32mNone\u001b[0m\u001b[1;33m,\u001b[0m\u001b[1;33m\n",
       "\u001b[0m    \u001b[0mconverters\u001b[0m\u001b[1;33m:\u001b[0m \u001b[1;34m'Mapping[Hashable, Callable] | None'\u001b[0m \u001b[1;33m=\u001b[0m \u001b[1;32mNone\u001b[0m\u001b[1;33m,\u001b[0m\u001b[1;33m\n",
       "\u001b[0m    \u001b[0mtrue_values\u001b[0m\u001b[1;33m:\u001b[0m \u001b[1;34m'list | None'\u001b[0m \u001b[1;33m=\u001b[0m \u001b[1;32mNone\u001b[0m\u001b[1;33m,\u001b[0m\u001b[1;33m\n",
       "\u001b[0m    \u001b[0mfalse_values\u001b[0m\u001b[1;33m:\u001b[0m \u001b[1;34m'list | None'\u001b[0m \u001b[1;33m=\u001b[0m \u001b[1;32mNone\u001b[0m\u001b[1;33m,\u001b[0m\u001b[1;33m\n",
       "\u001b[0m    \u001b[0mskipinitialspace\u001b[0m\u001b[1;33m:\u001b[0m \u001b[1;34m'bool'\u001b[0m \u001b[1;33m=\u001b[0m \u001b[1;32mFalse\u001b[0m\u001b[1;33m,\u001b[0m\u001b[1;33m\n",
       "\u001b[0m    \u001b[0mskiprows\u001b[0m\u001b[1;33m:\u001b[0m \u001b[1;34m'list[int] | int | Callable[[Hashable], bool] | None'\u001b[0m \u001b[1;33m=\u001b[0m \u001b[1;32mNone\u001b[0m\u001b[1;33m,\u001b[0m\u001b[1;33m\n",
       "\u001b[0m    \u001b[0mskipfooter\u001b[0m\u001b[1;33m:\u001b[0m \u001b[1;34m'int'\u001b[0m \u001b[1;33m=\u001b[0m \u001b[1;36m0\u001b[0m\u001b[1;33m,\u001b[0m\u001b[1;33m\n",
       "\u001b[0m    \u001b[0mnrows\u001b[0m\u001b[1;33m:\u001b[0m \u001b[1;34m'int | None'\u001b[0m \u001b[1;33m=\u001b[0m \u001b[1;32mNone\u001b[0m\u001b[1;33m,\u001b[0m\u001b[1;33m\n",
       "\u001b[0m    \u001b[0mna_values\u001b[0m\u001b[1;33m:\u001b[0m \u001b[1;34m'Sequence[str] | Mapping[str, Sequence[str]] | None'\u001b[0m \u001b[1;33m=\u001b[0m \u001b[1;32mNone\u001b[0m\u001b[1;33m,\u001b[0m\u001b[1;33m\n",
       "\u001b[0m    \u001b[0mkeep_default_na\u001b[0m\u001b[1;33m:\u001b[0m \u001b[1;34m'bool'\u001b[0m \u001b[1;33m=\u001b[0m \u001b[1;32mTrue\u001b[0m\u001b[1;33m,\u001b[0m\u001b[1;33m\n",
       "\u001b[0m    \u001b[0mna_filter\u001b[0m\u001b[1;33m:\u001b[0m \u001b[1;34m'bool'\u001b[0m \u001b[1;33m=\u001b[0m \u001b[1;32mTrue\u001b[0m\u001b[1;33m,\u001b[0m\u001b[1;33m\n",
       "\u001b[0m    \u001b[0mverbose\u001b[0m\u001b[1;33m:\u001b[0m \u001b[1;34m'bool'\u001b[0m \u001b[1;33m=\u001b[0m \u001b[1;32mFalse\u001b[0m\u001b[1;33m,\u001b[0m\u001b[1;33m\n",
       "\u001b[0m    \u001b[0mskip_blank_lines\u001b[0m\u001b[1;33m:\u001b[0m \u001b[1;34m'bool'\u001b[0m \u001b[1;33m=\u001b[0m \u001b[1;32mTrue\u001b[0m\u001b[1;33m,\u001b[0m\u001b[1;33m\n",
       "\u001b[0m    \u001b[0mparse_dates\u001b[0m\u001b[1;33m:\u001b[0m \u001b[1;34m'bool | Sequence[Hashable] | None'\u001b[0m \u001b[1;33m=\u001b[0m \u001b[1;32mNone\u001b[0m\u001b[1;33m,\u001b[0m\u001b[1;33m\n",
       "\u001b[0m    \u001b[0minfer_datetime_format\u001b[0m\u001b[1;33m:\u001b[0m \u001b[1;34m'bool | lib.NoDefault'\u001b[0m \u001b[1;33m=\u001b[0m \u001b[1;33m<\u001b[0m\u001b[0mno_default\u001b[0m\u001b[1;33m>\u001b[0m\u001b[1;33m,\u001b[0m\u001b[1;33m\n",
       "\u001b[0m    \u001b[0mkeep_date_col\u001b[0m\u001b[1;33m:\u001b[0m \u001b[1;34m'bool'\u001b[0m \u001b[1;33m=\u001b[0m \u001b[1;32mFalse\u001b[0m\u001b[1;33m,\u001b[0m\u001b[1;33m\n",
       "\u001b[0m    \u001b[0mdate_parser\u001b[0m\u001b[1;33m:\u001b[0m \u001b[1;34m'Callable | lib.NoDefault'\u001b[0m \u001b[1;33m=\u001b[0m \u001b[1;33m<\u001b[0m\u001b[0mno_default\u001b[0m\u001b[1;33m>\u001b[0m\u001b[1;33m,\u001b[0m\u001b[1;33m\n",
       "\u001b[0m    \u001b[0mdate_format\u001b[0m\u001b[1;33m:\u001b[0m \u001b[1;34m'str | None'\u001b[0m \u001b[1;33m=\u001b[0m \u001b[1;32mNone\u001b[0m\u001b[1;33m,\u001b[0m\u001b[1;33m\n",
       "\u001b[0m    \u001b[0mdayfirst\u001b[0m\u001b[1;33m:\u001b[0m \u001b[1;34m'bool'\u001b[0m \u001b[1;33m=\u001b[0m \u001b[1;32mFalse\u001b[0m\u001b[1;33m,\u001b[0m\u001b[1;33m\n",
       "\u001b[0m    \u001b[0mcache_dates\u001b[0m\u001b[1;33m:\u001b[0m \u001b[1;34m'bool'\u001b[0m \u001b[1;33m=\u001b[0m \u001b[1;32mTrue\u001b[0m\u001b[1;33m,\u001b[0m\u001b[1;33m\n",
       "\u001b[0m    \u001b[0miterator\u001b[0m\u001b[1;33m:\u001b[0m \u001b[1;34m'bool'\u001b[0m \u001b[1;33m=\u001b[0m \u001b[1;32mFalse\u001b[0m\u001b[1;33m,\u001b[0m\u001b[1;33m\n",
       "\u001b[0m    \u001b[0mchunksize\u001b[0m\u001b[1;33m:\u001b[0m \u001b[1;34m'int | None'\u001b[0m \u001b[1;33m=\u001b[0m \u001b[1;32mNone\u001b[0m\u001b[1;33m,\u001b[0m\u001b[1;33m\n",
       "\u001b[0m    \u001b[0mcompression\u001b[0m\u001b[1;33m:\u001b[0m \u001b[1;34m'CompressionOptions'\u001b[0m \u001b[1;33m=\u001b[0m \u001b[1;34m'infer'\u001b[0m\u001b[1;33m,\u001b[0m\u001b[1;33m\n",
       "\u001b[0m    \u001b[0mthousands\u001b[0m\u001b[1;33m:\u001b[0m \u001b[1;34m'str | None'\u001b[0m \u001b[1;33m=\u001b[0m \u001b[1;32mNone\u001b[0m\u001b[1;33m,\u001b[0m\u001b[1;33m\n",
       "\u001b[0m    \u001b[0mdecimal\u001b[0m\u001b[1;33m:\u001b[0m \u001b[1;34m'str'\u001b[0m \u001b[1;33m=\u001b[0m \u001b[1;34m'.'\u001b[0m\u001b[1;33m,\u001b[0m\u001b[1;33m\n",
       "\u001b[0m    \u001b[0mlineterminator\u001b[0m\u001b[1;33m:\u001b[0m \u001b[1;34m'str | None'\u001b[0m \u001b[1;33m=\u001b[0m \u001b[1;32mNone\u001b[0m\u001b[1;33m,\u001b[0m\u001b[1;33m\n",
       "\u001b[0m    \u001b[0mquotechar\u001b[0m\u001b[1;33m:\u001b[0m \u001b[1;34m'str'\u001b[0m \u001b[1;33m=\u001b[0m \u001b[1;34m'\"'\u001b[0m\u001b[1;33m,\u001b[0m\u001b[1;33m\n",
       "\u001b[0m    \u001b[0mquoting\u001b[0m\u001b[1;33m:\u001b[0m \u001b[1;34m'int'\u001b[0m \u001b[1;33m=\u001b[0m \u001b[1;36m0\u001b[0m\u001b[1;33m,\u001b[0m\u001b[1;33m\n",
       "\u001b[0m    \u001b[0mdoublequote\u001b[0m\u001b[1;33m:\u001b[0m \u001b[1;34m'bool'\u001b[0m \u001b[1;33m=\u001b[0m \u001b[1;32mTrue\u001b[0m\u001b[1;33m,\u001b[0m\u001b[1;33m\n",
       "\u001b[0m    \u001b[0mescapechar\u001b[0m\u001b[1;33m:\u001b[0m \u001b[1;34m'str | None'\u001b[0m \u001b[1;33m=\u001b[0m \u001b[1;32mNone\u001b[0m\u001b[1;33m,\u001b[0m\u001b[1;33m\n",
       "\u001b[0m    \u001b[0mcomment\u001b[0m\u001b[1;33m:\u001b[0m \u001b[1;34m'str | None'\u001b[0m \u001b[1;33m=\u001b[0m \u001b[1;32mNone\u001b[0m\u001b[1;33m,\u001b[0m\u001b[1;33m\n",
       "\u001b[0m    \u001b[0mencoding\u001b[0m\u001b[1;33m:\u001b[0m \u001b[1;34m'str | None'\u001b[0m \u001b[1;33m=\u001b[0m \u001b[1;32mNone\u001b[0m\u001b[1;33m,\u001b[0m\u001b[1;33m\n",
       "\u001b[0m    \u001b[0mencoding_errors\u001b[0m\u001b[1;33m:\u001b[0m \u001b[1;34m'str | None'\u001b[0m \u001b[1;33m=\u001b[0m \u001b[1;34m'strict'\u001b[0m\u001b[1;33m,\u001b[0m\u001b[1;33m\n",
       "\u001b[0m    \u001b[0mdialect\u001b[0m\u001b[1;33m:\u001b[0m \u001b[1;34m'str | csv.Dialect | None'\u001b[0m \u001b[1;33m=\u001b[0m \u001b[1;32mNone\u001b[0m\u001b[1;33m,\u001b[0m\u001b[1;33m\n",
       "\u001b[0m    \u001b[0mon_bad_lines\u001b[0m\u001b[1;33m:\u001b[0m \u001b[1;34m'str'\u001b[0m \u001b[1;33m=\u001b[0m \u001b[1;34m'error'\u001b[0m\u001b[1;33m,\u001b[0m\u001b[1;33m\n",
       "\u001b[0m    \u001b[0mdelim_whitespace\u001b[0m\u001b[1;33m:\u001b[0m \u001b[1;34m'bool'\u001b[0m \u001b[1;33m=\u001b[0m \u001b[1;32mFalse\u001b[0m\u001b[1;33m,\u001b[0m\u001b[1;33m\n",
       "\u001b[0m    \u001b[0mlow_memory\u001b[0m\u001b[1;33m:\u001b[0m \u001b[1;34m'bool'\u001b[0m \u001b[1;33m=\u001b[0m \u001b[1;32mTrue\u001b[0m\u001b[1;33m,\u001b[0m\u001b[1;33m\n",
       "\u001b[0m    \u001b[0mmemory_map\u001b[0m\u001b[1;33m:\u001b[0m \u001b[1;34m'bool'\u001b[0m \u001b[1;33m=\u001b[0m \u001b[1;32mFalse\u001b[0m\u001b[1;33m,\u001b[0m\u001b[1;33m\n",
       "\u001b[0m    \u001b[0mfloat_precision\u001b[0m\u001b[1;33m:\u001b[0m \u001b[1;34m\"Literal['high', 'legacy'] | None\"\u001b[0m \u001b[1;33m=\u001b[0m \u001b[1;32mNone\u001b[0m\u001b[1;33m,\u001b[0m\u001b[1;33m\n",
       "\u001b[0m    \u001b[0mstorage_options\u001b[0m\u001b[1;33m:\u001b[0m \u001b[1;34m'StorageOptions | None'\u001b[0m \u001b[1;33m=\u001b[0m \u001b[1;32mNone\u001b[0m\u001b[1;33m,\u001b[0m\u001b[1;33m\n",
       "\u001b[0m    \u001b[0mdtype_backend\u001b[0m\u001b[1;33m:\u001b[0m \u001b[1;34m'DtypeBackend | lib.NoDefault'\u001b[0m \u001b[1;33m=\u001b[0m \u001b[1;33m<\u001b[0m\u001b[0mno_default\u001b[0m\u001b[1;33m>\u001b[0m\u001b[1;33m,\u001b[0m\u001b[1;33m\n",
       "\u001b[0m\u001b[1;33m)\u001b[0m \u001b[1;33m->\u001b[0m \u001b[1;34m'DataFrame | TextFileReader'\u001b[0m\u001b[1;33m\u001b[0m\u001b[1;33m\u001b[0m\u001b[0m\n",
       "\u001b[1;31mDocstring:\u001b[0m\n",
       "Read a comma-separated values (csv) file into DataFrame.\n",
       "\n",
       "Also supports optionally iterating or breaking of the file\n",
       "into chunks.\n",
       "\n",
       "Additional help can be found in the online docs for\n",
       "`IO Tools <https://pandas.pydata.org/pandas-docs/stable/user_guide/io.html>`_.\n",
       "\n",
       "Parameters\n",
       "----------\n",
       "filepath_or_buffer : str, path object or file-like object\n",
       "    Any valid string path is acceptable. The string could be a URL. Valid\n",
       "    URL schemes include http, ftp, s3, gs, and file. For file URLs, a host is\n",
       "    expected. A local file could be: file://localhost/path/to/table.csv.\n",
       "\n",
       "    If you want to pass in a path object, pandas accepts any ``os.PathLike``.\n",
       "\n",
       "    By file-like object, we refer to objects with a ``read()`` method, such as\n",
       "    a file handle (e.g. via builtin ``open`` function) or ``StringIO``.\n",
       "sep : str, default ','\n",
       "    Character or regex pattern to treat as the delimiter. If ``sep=None``, the\n",
       "    C engine cannot automatically detect\n",
       "    the separator, but the Python parsing engine can, meaning the latter will\n",
       "    be used and automatically detect the separator from only the first valid\n",
       "    row of the file by Python's builtin sniffer tool, ``csv.Sniffer``.\n",
       "    In addition, separators longer than 1 character and different from\n",
       "    ``'\\s+'`` will be interpreted as regular expressions and will also force\n",
       "    the use of the Python parsing engine. Note that regex delimiters are prone\n",
       "    to ignoring quoted data. Regex example: ``'\\r\\t'``.\n",
       "delimiter : str, optional\n",
       "    Alias for ``sep``.\n",
       "header : int, Sequence of int, 'infer' or None, default 'infer'\n",
       "    Row number(s) containing column labels and marking the start of the\n",
       "    data (zero-indexed). Default behavior is to infer the column names: if no ``names``\n",
       "    are passed the behavior is identical to ``header=0`` and column\n",
       "    names are inferred from the first line of the file, if column\n",
       "    names are passed explicitly to ``names`` then the behavior is identical to\n",
       "    ``header=None``. Explicitly pass ``header=0`` to be able to\n",
       "    replace existing names. The header can be a list of integers that\n",
       "    specify row locations for a :class:`~pandas.MultiIndex` on the columns\n",
       "    e.g. ``[0, 1, 3]``. Intervening rows that are not specified will be\n",
       "    skipped (e.g. 2 in this example is skipped). Note that this\n",
       "    parameter ignores commented lines and empty lines if\n",
       "    ``skip_blank_lines=True``, so ``header=0`` denotes the first line of\n",
       "    data rather than the first line of the file.\n",
       "names : Sequence of Hashable, optional\n",
       "    Sequence of column labels to apply. If the file contains a header row,\n",
       "    then you should explicitly pass ``header=0`` to override the column names.\n",
       "    Duplicates in this list are not allowed.\n",
       "index_col : Hashable, Sequence of Hashable or False, optional\n",
       "  Column(s) to use as row label(s), denoted either by column labels or column\n",
       "  indices.  If a sequence of labels or indices is given, :class:`~pandas.MultiIndex`\n",
       "  will be formed for the row labels.\n",
       "\n",
       "  Note: ``index_col=False`` can be used to force pandas to *not* use the first\n",
       "  column as the index, e.g., when you have a malformed file with delimiters at\n",
       "  the end of each line.\n",
       "usecols : list of Hashable or Callable, optional\n",
       "    Subset of columns to select, denoted either by column labels or column indices.\n",
       "    If list-like, all elements must either\n",
       "    be positional (i.e. integer indices into the document columns) or strings\n",
       "    that correspond to column names provided either by the user in ``names`` or\n",
       "    inferred from the document header row(s). If ``names`` are given, the document\n",
       "    header row(s) are not taken into account. For example, a valid list-like\n",
       "    ``usecols`` parameter would be ``[0, 1, 2]`` or ``['foo', 'bar', 'baz']``.\n",
       "    Element order is ignored, so ``usecols=[0, 1]`` is the same as ``[1, 0]``.\n",
       "    To instantiate a :class:`~pandas.DataFrame` from ``data`` with element order\n",
       "    preserved use ``pd.read_csv(data, usecols=['foo', 'bar'])[['foo', 'bar']]``\n",
       "    for columns in ``['foo', 'bar']`` order or\n",
       "    ``pd.read_csv(data, usecols=['foo', 'bar'])[['bar', 'foo']]``\n",
       "    for ``['bar', 'foo']`` order.\n",
       "\n",
       "    If callable, the callable function will be evaluated against the column\n",
       "    names, returning names where the callable function evaluates to ``True``. An\n",
       "    example of a valid callable argument would be ``lambda x: x.upper() in\n",
       "    ['AAA', 'BBB', 'DDD']``. Using this parameter results in much faster\n",
       "    parsing time and lower memory usage.\n",
       "dtype : dtype or dict of {Hashable : dtype}, optional\n",
       "    Data type(s) to apply to either the whole dataset or individual columns.\n",
       "    E.g., ``{'a': np.float64, 'b': np.int32, 'c': 'Int64'}``\n",
       "    Use ``str`` or ``object`` together with suitable ``na_values`` settings\n",
       "    to preserve and not interpret ``dtype``.\n",
       "    If ``converters`` are specified, they will be applied INSTEAD\n",
       "    of ``dtype`` conversion.\n",
       "\n",
       "    .. versionadded:: 1.5.0\n",
       "\n",
       "        Support for ``defaultdict`` was added. Specify a ``defaultdict`` as input where\n",
       "        the default determines the ``dtype`` of the columns which are not explicitly\n",
       "        listed.\n",
       "engine : {'c', 'python', 'pyarrow'}, optional\n",
       "    Parser engine to use. The C and pyarrow engines are faster, while the python engine\n",
       "    is currently more feature-complete. Multithreading is currently only supported by\n",
       "    the pyarrow engine.\n",
       "\n",
       "    .. versionadded:: 1.4.0\n",
       "\n",
       "        The 'pyarrow' engine was added as an *experimental* engine, and some features\n",
       "        are unsupported, or may not work correctly, with this engine.\n",
       "converters : dict of {Hashable : Callable}, optional\n",
       "    Functions for converting values in specified columns. Keys can either\n",
       "    be column labels or column indices.\n",
       "true_values : list, optional\n",
       "    Values to consider as ``True`` in addition to case-insensitive variants of 'True'.\n",
       "false_values : list, optional\n",
       "    Values to consider as ``False`` in addition to case-insensitive variants of 'False'.\n",
       "skipinitialspace : bool, default False\n",
       "    Skip spaces after delimiter.\n",
       "skiprows : int, list of int or Callable, optional\n",
       "    Line numbers to skip (0-indexed) or number of lines to skip (``int``)\n",
       "    at the start of the file.\n",
       "\n",
       "    If callable, the callable function will be evaluated against the row\n",
       "    indices, returning ``True`` if the row should be skipped and ``False`` otherwise.\n",
       "    An example of a valid callable argument would be ``lambda x: x in [0, 2]``.\n",
       "skipfooter : int, default 0\n",
       "    Number of lines at bottom of file to skip (Unsupported with ``engine='c'``).\n",
       "nrows : int, optional\n",
       "    Number of rows of file to read. Useful for reading pieces of large files.\n",
       "na_values : Hashable, Iterable of Hashable or dict of {Hashable : Iterable}, optional\n",
       "    Additional strings to recognize as ``NA``/``NaN``. If ``dict`` passed, specific\n",
       "    per-column ``NA`` values.  By default the following values are interpreted as\n",
       "    ``NaN``: \" \", \"#N/A\", \"#N/A N/A\", \"#NA\", \"-1.#IND\", \"-1.#QNAN\", \"-NaN\", \"-nan\",\n",
       "    \"1.#IND\", \"1.#QNAN\", \"<NA>\", \"N/A\", \"NA\", \"NULL\", \"NaN\", \"None\",\n",
       "    \"n/a\", \"nan\", \"null \".\n",
       "\n",
       "keep_default_na : bool, default True\n",
       "    Whether or not to include the default ``NaN`` values when parsing the data.\n",
       "    Depending on whether ``na_values`` is passed in, the behavior is as follows:\n",
       "\n",
       "    * If ``keep_default_na`` is ``True``, and ``na_values`` are specified, ``na_values``\n",
       "      is appended to the default ``NaN`` values used for parsing.\n",
       "    * If ``keep_default_na`` is ``True``, and ``na_values`` are not specified, only\n",
       "      the default ``NaN`` values are used for parsing.\n",
       "    * If ``keep_default_na`` is ``False``, and ``na_values`` are specified, only\n",
       "      the ``NaN`` values specified ``na_values`` are used for parsing.\n",
       "    * If ``keep_default_na`` is ``False``, and ``na_values`` are not specified, no\n",
       "      strings will be parsed as ``NaN``.\n",
       "\n",
       "    Note that if ``na_filter`` is passed in as ``False``, the ``keep_default_na`` and\n",
       "    ``na_values`` parameters will be ignored.\n",
       "na_filter : bool, default True\n",
       "    Detect missing value markers (empty strings and the value of ``na_values``). In\n",
       "    data without any ``NA`` values, passing ``na_filter=False`` can improve the\n",
       "    performance of reading a large file.\n",
       "verbose : bool, default False\n",
       "    Indicate number of ``NA`` values placed in non-numeric columns.\n",
       "skip_blank_lines : bool, default True\n",
       "    If ``True``, skip over blank lines rather than interpreting as ``NaN`` values.\n",
       "parse_dates : bool, list of Hashable, list of lists or dict of {Hashable : list}, default False\n",
       "    The behavior is as follows:\n",
       "\n",
       "    * ``bool``. If ``True`` -> try parsing the index.\n",
       "    * ``list`` of ``int`` or names. e.g. If ``[1, 2, 3]`` -> try parsing columns 1, 2, 3\n",
       "      each as a separate date column.\n",
       "    * ``list`` of ``list``. e.g.  If ``[[1, 3]]`` -> combine columns 1 and 3 and parse\n",
       "      as a single date column.\n",
       "    * ``dict``, e.g. ``{'foo' : [1, 3]}`` -> parse columns 1, 3 as date and call\n",
       "      result 'foo'\n",
       "\n",
       "    If a column or index cannot be represented as an array of ``datetime``,\n",
       "    say because of an unparsable value or a mixture of timezones, the column\n",
       "    or index will be returned unaltered as an ``object`` data type. For\n",
       "    non-standard ``datetime`` parsing, use :func:`~pandas.to_datetime` after\n",
       "    :func:`~pandas.read_csv`.\n",
       "\n",
       "    Note: A fast-path exists for iso8601-formatted dates.\n",
       "infer_datetime_format : bool, default False\n",
       "    If ``True`` and ``parse_dates`` is enabled, pandas will attempt to infer the\n",
       "    format of the ``datetime`` strings in the columns, and if it can be inferred,\n",
       "    switch to a faster method of parsing them. In some cases this can increase\n",
       "    the parsing speed by 5-10x.\n",
       "\n",
       "    .. deprecated:: 2.0.0\n",
       "        A strict version of this argument is now the default, passing it has no effect.\n",
       "\n",
       "keep_date_col : bool, default False\n",
       "    If ``True`` and ``parse_dates`` specifies combining multiple columns then\n",
       "    keep the original columns.\n",
       "date_parser : Callable, optional\n",
       "    Function to use for converting a sequence of string columns to an array of\n",
       "    ``datetime`` instances. The default uses ``dateutil.parser.parser`` to do the\n",
       "    conversion. pandas will try to call ``date_parser`` in three different ways,\n",
       "    advancing to the next if an exception occurs: 1) Pass one or more arrays\n",
       "    (as defined by ``parse_dates``) as arguments; 2) concatenate (row-wise) the\n",
       "    string values from the columns defined by ``parse_dates`` into a single array\n",
       "    and pass that; and 3) call ``date_parser`` once for each row using one or\n",
       "    more strings (corresponding to the columns defined by ``parse_dates``) as\n",
       "    arguments.\n",
       "\n",
       "    .. deprecated:: 2.0.0\n",
       "       Use ``date_format`` instead, or read in as ``object`` and then apply\n",
       "       :func:`~pandas.to_datetime` as-needed.\n",
       "date_format : str or dict of column -> format, optional\n",
       "   Format to use for parsing dates when used in conjunction with ``parse_dates``.\n",
       "   For anything more complex, please read in as ``object`` and then apply\n",
       "   :func:`~pandas.to_datetime` as-needed.\n",
       "\n",
       "   .. versionadded:: 2.0.0\n",
       "dayfirst : bool, default False\n",
       "    DD/MM format dates, international and European format.\n",
       "cache_dates : bool, default True\n",
       "    If ``True``, use a cache of unique, converted dates to apply the ``datetime``\n",
       "    conversion. May produce significant speed-up when parsing duplicate\n",
       "    date strings, especially ones with timezone offsets.\n",
       "\n",
       "iterator : bool, default False\n",
       "    Return ``TextFileReader`` object for iteration or getting chunks with\n",
       "    ``get_chunk()``.\n",
       "\n",
       "    .. versionchanged:: 1.2\n",
       "\n",
       "       ``TextFileReader`` is a context manager.\n",
       "chunksize : int, optional\n",
       "    Number of lines to read from the file per chunk. Passing a value will cause the\n",
       "    function to return a ``TextFileReader`` object for iteration.\n",
       "    See the `IO Tools docs\n",
       "    <https://pandas.pydata.org/pandas-docs/stable/io.html#io-chunking>`_\n",
       "    for more information on ``iterator`` and ``chunksize``.\n",
       "\n",
       "    .. versionchanged:: 1.2\n",
       "\n",
       "       ``TextFileReader`` is a context manager.\n",
       "compression : str or dict, default 'infer'\n",
       "    For on-the-fly decompression of on-disk data. If 'infer' and 'filepath_or_buffer' is\n",
       "    path-like, then detect compression from the following extensions: '.gz',\n",
       "    '.bz2', '.zip', '.xz', '.zst', '.tar', '.tar.gz', '.tar.xz' or '.tar.bz2'\n",
       "    (otherwise no compression).\n",
       "    If using 'zip' or 'tar', the ZIP file must contain only one data file to be read in.\n",
       "    Set to ``None`` for no decompression.\n",
       "    Can also be a dict with key ``'method'`` set\n",
       "    to one of {``'zip'``, ``'gzip'``, ``'bz2'``, ``'zstd'``, ``'xz'``, ``'tar'``} and\n",
       "    other key-value pairs are forwarded to\n",
       "    ``zipfile.ZipFile``, ``gzip.GzipFile``,\n",
       "    ``bz2.BZ2File``, ``zstandard.ZstdDecompressor``, ``lzma.LZMAFile`` or\n",
       "    ``tarfile.TarFile``, respectively.\n",
       "    As an example, the following could be passed for Zstandard decompression using a\n",
       "    custom compression dictionary:\n",
       "    ``compression={'method': 'zstd', 'dict_data': my_compression_dict}``.\n",
       "\n",
       "    .. versionadded:: 1.5.0\n",
       "        Added support for `.tar` files.\n",
       "\n",
       "    .. versionchanged:: 1.4.0 Zstandard support.\n",
       "\n",
       "thousands : str (length 1), optional\n",
       "    Character acting as the thousands separator in numerical values.\n",
       "decimal : str (length 1), default '.'\n",
       "    Character to recognize as decimal point (e.g., use ',' for European data).\n",
       "lineterminator : str (length 1), optional\n",
       "    Character used to denote a line break. Only valid with C parser.\n",
       "quotechar : str (length 1), optional\n",
       "    Character used to denote the start and end of a quoted item. Quoted\n",
       "    items can include the ``delimiter`` and it will be ignored.\n",
       "quoting : {0 or csv.QUOTE_MINIMAL, 1 or csv.QUOTE_ALL, 2 or csv.QUOTE_NONNUMERIC, 3 or csv.QUOTE_NONE}, default csv.QUOTE_MINIMAL\n",
       "    Control field quoting behavior per ``csv.QUOTE_*`` constants. Default is\n",
       "    ``csv.QUOTE_MINIMAL`` (i.e., 0) which implies that only fields containing special\n",
       "    characters are quoted (e.g., characters defined in ``quotechar``, ``delimiter``,\n",
       "    or ``lineterminator``.\n",
       "doublequote : bool, default True\n",
       "   When ``quotechar`` is specified and ``quoting`` is not ``QUOTE_NONE``, indicate\n",
       "   whether or not to interpret two consecutive ``quotechar`` elements INSIDE a\n",
       "   field as a single ``quotechar`` element.\n",
       "escapechar : str (length 1), optional\n",
       "    Character used to escape other characters.\n",
       "comment : str (length 1), optional\n",
       "    Character indicating that the remainder of line should not be parsed.\n",
       "    If found at the beginning\n",
       "    of a line, the line will be ignored altogether. This parameter must be a\n",
       "    single character. Like empty lines (as long as ``skip_blank_lines=True``),\n",
       "    fully commented lines are ignored by the parameter ``header`` but not by\n",
       "    ``skiprows``. For example, if ``comment='#'``, parsing\n",
       "    ``#empty\\na,b,c\\n1,2,3`` with ``header=0`` will result in ``'a,b,c'`` being\n",
       "    treated as the header.\n",
       "encoding : str, optional, default 'utf-8'\n",
       "    Encoding to use for UTF when reading/writing (ex. ``'utf-8'``). `List of Python\n",
       "    standard encodings\n",
       "    <https://docs.python.org/3/library/codecs.html#standard-encodings>`_ .\n",
       "\n",
       "    .. versionchanged:: 1.2\n",
       "\n",
       "       When ``encoding`` is ``None``, ``errors='replace'`` is passed to\n",
       "       ``open()``. Otherwise, ``errors='strict'`` is passed to ``open()``.\n",
       "       This behavior was previously only the case for ``engine='python'``.\n",
       "\n",
       "    .. versionchanged:: 1.3.0\n",
       "\n",
       "       ``encoding_errors`` is a new argument. ``encoding`` has no longer an\n",
       "       influence on how encoding errors are handled.\n",
       "\n",
       "encoding_errors : str, optional, default 'strict'\n",
       "    How encoding errors are treated. `List of possible values\n",
       "    <https://docs.python.org/3/library/codecs.html#error-handlers>`_ .\n",
       "\n",
       "    .. versionadded:: 1.3.0\n",
       "\n",
       "dialect : str or csv.Dialect, optional\n",
       "    If provided, this parameter will override values (default or not) for the\n",
       "    following parameters: ``delimiter``, ``doublequote``, ``escapechar``,\n",
       "    ``skipinitialspace``, ``quotechar``, and ``quoting``. If it is necessary to\n",
       "    override values, a ``ParserWarning`` will be issued. See ``csv.Dialect``\n",
       "    documentation for more details.\n",
       "on_bad_lines : {'error', 'warn', 'skip'} or Callable, default 'error'\n",
       "    Specifies what to do upon encountering a bad line (a line with too many fields).\n",
       "    Allowed values are :\n",
       "\n",
       "    - ``'error'``, raise an Exception when a bad line is encountered.\n",
       "    - ``'warn'``, raise a warning when a bad line is encountered and skip that line.\n",
       "    - ``'skip'``, skip bad lines without raising or warning when they are encountered.\n",
       "\n",
       "    .. versionadded:: 1.3.0\n",
       "\n",
       "    .. versionadded:: 1.4.0\n",
       "\n",
       "        - Callable, function with signature\n",
       "          ``(bad_line: list[str]) -> list[str] | None`` that will process a single\n",
       "          bad line. ``bad_line`` is a list of strings split by the ``sep``.\n",
       "          If the function returns ``None``, the bad line will be ignored.\n",
       "          If the function returns a new ``list`` of strings with more elements than\n",
       "          expected, a ``ParserWarning`` will be emitted while dropping extra elements.\n",
       "          Only supported when ``engine='python'``\n",
       "\n",
       "delim_whitespace : bool, default False\n",
       "    Specifies whether or not whitespace (e.g. ``' '`` or ``'\\t'``) will be\n",
       "    used as the ``sep`` delimiter. Equivalent to setting ``sep='\\s+'``. If this option\n",
       "    is set to ``True``, nothing should be passed in for the ``delimiter``\n",
       "    parameter.\n",
       "low_memory : bool, default True\n",
       "    Internally process the file in chunks, resulting in lower memory use\n",
       "    while parsing, but possibly mixed type inference.  To ensure no mixed\n",
       "    types either set ``False``, or specify the type with the ``dtype`` parameter.\n",
       "    Note that the entire file is read into a single :class:`~pandas.DataFrame`\n",
       "    regardless, use the ``chunksize`` or ``iterator`` parameter to return the data in\n",
       "    chunks. (Only valid with C parser).\n",
       "memory_map : bool, default False\n",
       "    If a filepath is provided for ``filepath_or_buffer``, map the file object\n",
       "    directly onto memory and access the data directly from there. Using this\n",
       "    option can improve performance because there is no longer any I/O overhead.\n",
       "float_precision : {'high', 'legacy', 'round_trip'}, optional\n",
       "    Specifies which converter the C engine should use for floating-point\n",
       "    values. The options are ``None`` or ``'high'`` for the ordinary converter,\n",
       "    ``'legacy'`` for the original lower precision pandas converter, and\n",
       "    ``'round_trip'`` for the round-trip converter.\n",
       "\n",
       "    .. versionchanged:: 1.2\n",
       "\n",
       "storage_options : dict, optional\n",
       "    Extra options that make sense for a particular storage connection, e.g.\n",
       "    host, port, username, password, etc. For HTTP(S) URLs the key-value pairs\n",
       "    are forwarded to ``urllib.request.Request`` as header options. For other\n",
       "    URLs (e.g. starting with \"s3://\", and \"gcs://\") the key-value pairs are\n",
       "    forwarded to ``fsspec.open``. Please see ``fsspec`` and ``urllib`` for more\n",
       "    details, and for more examples on storage options refer `here\n",
       "    <https://pandas.pydata.org/docs/user_guide/io.html?\n",
       "    highlight=storage_options#reading-writing-remote-files>`_.\n",
       "\n",
       "    .. versionadded:: 1.2\n",
       "\n",
       "dtype_backend : {'numpy_nullable', 'pyarrow'}, default 'numpy_nullable'\n",
       "    Back-end data type applied to the resultant :class:`DataFrame`\n",
       "    (still experimental). Behaviour is as follows:\n",
       "\n",
       "    * ``\"numpy_nullable\"``: returns nullable-dtype-backed :class:`DataFrame`\n",
       "      (default).\n",
       "    * ``\"pyarrow\"``: returns pyarrow-backed nullable :class:`ArrowDtype`\n",
       "      DataFrame.\n",
       "\n",
       "    .. versionadded:: 2.0\n",
       "\n",
       "Returns\n",
       "-------\n",
       "DataFrame or TextFileReader\n",
       "    A comma-separated values (csv) file is returned as two-dimensional\n",
       "    data structure with labeled axes.\n",
       "\n",
       "See Also\n",
       "--------\n",
       "DataFrame.to_csv : Write DataFrame to a comma-separated values (csv) file.\n",
       "read_table : Read general delimited file into DataFrame.\n",
       "read_fwf : Read a table of fixed-width formatted lines into DataFrame.\n",
       "\n",
       "Examples\n",
       "--------\n",
       ">>> pd.read_csv('data.csv')  # doctest: +SKIP\n",
       "\u001b[1;31mFile:\u001b[0m      c:\\users\\ivan\\anaconda3\\lib\\site-packages\\pandas\\io\\parsers\\readers.py\n",
       "\u001b[1;31mType:\u001b[0m      function"
      ]
     },
     "metadata": {},
     "output_type": "display_data"
    }
   ],
   "source": [
    "# check common \"?\"\n",
    "pd.read_csv?"
   ]
  },
  {
   "cell_type": "code",
   "execution_count": 22,
   "id": "1326e291-eae1-4010-ac9c-bf50567e4a46",
   "metadata": {},
   "outputs": [],
   "source": [
    "df_load=pd.read_csv(\"spam.csv\", index_col=0)"
   ]
  },
  {
   "cell_type": "code",
   "execution_count": 23,
   "id": "0afe71cc-3e84-4703-9fcd-14292c47b25d",
   "metadata": {},
   "outputs": [
    {
     "data": {
      "text/html": [
       "<div>\n",
       "<style scoped>\n",
       "    .dataframe tbody tr th:only-of-type {\n",
       "        vertical-align: middle;\n",
       "    }\n",
       "\n",
       "    .dataframe tbody tr th {\n",
       "        vertical-align: top;\n",
       "    }\n",
       "\n",
       "    .dataframe thead th {\n",
       "        text-align: right;\n",
       "    }\n",
       "</style>\n",
       "<table border=\"1\" class=\"dataframe\">\n",
       "  <thead>\n",
       "    <tr style=\"text-align: right;\">\n",
       "      <th></th>\n",
       "      <th>A</th>\n",
       "      <th>B</th>\n",
       "      <th>C</th>\n",
       "    </tr>\n",
       "  </thead>\n",
       "  <tbody>\n",
       "    <tr>\n",
       "      <th>0</th>\n",
       "      <td>8</td>\n",
       "      <td>5</td>\n",
       "      <td>1</td>\n",
       "    </tr>\n",
       "    <tr>\n",
       "      <th>1</th>\n",
       "      <td>3</td>\n",
       "      <td>7</td>\n",
       "      <td>2</td>\n",
       "    </tr>\n",
       "    <tr>\n",
       "      <th>2</th>\n",
       "      <td>7</td>\n",
       "      <td>9</td>\n",
       "      <td>9</td>\n",
       "    </tr>\n",
       "    <tr>\n",
       "      <th>3</th>\n",
       "      <td>4</td>\n",
       "      <td>7</td>\n",
       "      <td>5</td>\n",
       "    </tr>\n",
       "    <tr>\n",
       "      <th>4</th>\n",
       "      <td>9</td>\n",
       "      <td>1</td>\n",
       "      <td>1</td>\n",
       "    </tr>\n",
       "  </tbody>\n",
       "</table>\n",
       "</div>"
      ],
      "text/plain": [
       "   A  B  C\n",
       "0  8  5  1\n",
       "1  3  7  2\n",
       "2  7  9  9\n",
       "3  4  7  5\n",
       "4  9  1  1"
      ]
     },
     "execution_count": 23,
     "metadata": {},
     "output_type": "execute_result"
    }
   ],
   "source": [
    "df_load"
   ]
  },
  {
   "cell_type": "code",
   "execution_count": 27,
   "id": "3edafa6b-fab8-439a-97cb-86337fc3e496",
   "metadata": {},
   "outputs": [
    {
     "ename": "SyntaxError",
     "evalue": "invalid syntax (3029611215.py, line 3)",
     "output_type": "error",
     "traceback": [
      "\u001b[1;36m  Cell \u001b[1;32mIn[27], line 3\u001b[1;36m\u001b[0m\n\u001b[1;33m    http://u.camdemy.com/media/433\u001b[0m\n\u001b[1;37m         ^\u001b[0m\n\u001b[1;31mSyntaxError\u001b[0m\u001b[1;31m:\u001b[0m invalid syntax\n"
     ]
    }
   ],
   "source": [
    "# youtube\n",
    "\n",
    "http://u.camdemy.com/media/433"
   ]
  },
  {
   "cell_type": "code",
   "execution_count": 1,
   "id": "9eaefc5a-42cb-4e09-a6f5-9de5bf5566e7",
   "metadata": {},
   "outputs": [
    {
     "name": "stdout",
     "output_type": "stream",
     "text": [
      "Today's fruit is :Orange\n"
     ]
    }
   ],
   "source": [
    "# Choice fruits randomly\n",
    "\n",
    "import random\n",
    "fruits=['Apple','Orange','Banana','Pear','Tomato']\n",
    "cf=random.choice(fruits)\n",
    "\n",
    "print(\"Today's fruit is :\" + cf)"
   ]
  },
  {
   "cell_type": "code",
   "execution_count": 3,
   "id": "1486c350-a1fe-4fe6-b0e2-773e430c95fd",
   "metadata": {},
   "outputs": [
    {
     "name": "stdin",
     "output_type": "stream",
     "text": [
      "請輸入景氣對策信號綜合分數 29\n"
     ]
    },
    {
     "name": "stdout",
     "output_type": "stream",
     "text": [
      "綠燈\n"
     ]
    }
   ],
   "source": [
    "# 景氣對策信號\n",
    "\n",
    "score=int(input('請輸入景氣對策信號綜合分數'))\n",
    "if score>=45 or score <9:\n",
    "    print('錯誤')\n",
    "elif score>=37:\n",
    "    print('紅燈')\n",
    "elif score>=31:\n",
    "    print('黃紅燈')\n",
    "elif score>=22:\n",
    "    print('綠燈')\n",
    "elif score>=16:\n",
    "    print('黃藍燈')\n",
    "elif score>=9:\n",
    "    print('藍燈')\n"
   ]
  },
  {
   "cell_type": "code",
   "execution_count": 4,
   "id": "6be3c4d1-e311-4824-9843-45c19c1f890c",
   "metadata": {},
   "outputs": [
    {
     "name": "stdin",
     "output_type": "stream",
     "text": [
      "請輸入淨年所得額: 5000000\n"
     ]
    },
    {
     "name": "stdout",
     "output_type": "stream",
     "text": [
      "應繳稅額= 1195000.0\n"
     ]
    }
   ],
   "source": [
    "level1=520000*0.05\n",
    "level2=(1170000-520000)*0.12\n",
    "level3=(2350000-1170000)*0.2\n",
    "level4=(4400000-2350000)*0.3\n",
    "level5=(10000000-4400000)*0.4\n",
    "income=int(input('請輸入淨年所得額:'))\n",
    "\n",
    "if income <= 520000:\n",
    "    tax=income*0.05\n",
    "elif income <=1170000:\n",
    "    tax=level+((income-520000)*0.12)\n",
    "    \n",
    "elif income <= 2350000:\n",
    "    tax=level1+leval2+((income-1170000)*0.2)\n",
    "elif income <= 4400000:\n",
    "    tax=level1+level2+level3+((income-2350000)*0.3)\n",
    "elif income <= 10000000:\n",
    "    tax=level1+level2+level3+level4+((income-4400000)*0.4)\n",
    "else :\n",
    "    tax=level1+level2+level3+level4+levle5+((income-10000000)*0.45)\n",
    "\n",
    "print('應繳稅額=',tax)\n",
    "\n"
   ]
  },
  {
   "cell_type": "code",
   "execution_count": 5,
   "id": "1eeebff2-b4f5-4880-8de8-8bb46284bd5c",
   "metadata": {},
   "outputs": [
    {
     "name": "stdout",
     "output_type": "stream",
     "text": [
      "36\n"
     ]
    }
   ],
   "source": [
    "#\n",
    "\n",
    "lamret=lambda x: x**2\n",
    "print(lamret(6))"
   ]
  },
  {
   "cell_type": "code",
   "execution_count": 2,
   "id": "efdd4972-5f03-4f91-b0b4-01a960e5ec96",
   "metadata": {},
   "outputs": [
    {
     "data": {
      "text/plain": [
       "function"
      ]
     },
     "execution_count": 2,
     "metadata": {},
     "output_type": "execute_result"
    }
   ],
   "source": [
    "type(lamret)"
   ]
  },
  {
   "cell_type": "code",
   "execution_count": 6,
   "id": "89a4572b-5010-4254-861d-d4912e24183a",
   "metadata": {},
   "outputs": [
    {
     "name": "stdout",
     "output_type": "stream",
     "text": [
      "2.0\n"
     ]
    }
   ],
   "source": [
    "#f(x,y,z)=(x-y)^z/2\n",
    "\n",
    "lambret2=lambda x, y, z: ((x-y)**z)/2\n",
    "print(lambret2(3,1,2))"
   ]
  },
  {
   "cell_type": "code",
   "execution_count": 9,
   "id": "454bbe46-8167-4742-bd0f-cb18edcf1553",
   "metadata": {},
   "outputs": [
    {
     "name": "stdout",
     "output_type": "stream",
     "text": [
      "16\n"
     ]
    }
   ],
   "source": [
    "lambret3=lambda x, y: x**2 if x>y else 1/x**2\n",
    "print(lambret3(4,3))"
   ]
  },
  {
   "cell_type": "code",
   "execution_count": 11,
   "id": "e48044f9-1eca-4c1b-a40c-96cdbaacb15b",
   "metadata": {},
   "outputs": [
    {
     "name": "stdout",
     "output_type": "stream",
     "text": [
      "0.0625\n"
     ]
    }
   ],
   "source": [
    "print(lambret3(4,5))"
   ]
  },
  {
   "cell_type": "code",
   "execution_count": 15,
   "id": "2b83d6ad-cd69-4dcd-a4c8-3239185e8fc9",
   "metadata": {},
   "outputs": [
    {
     "name": "stdout",
     "output_type": "stream",
     "text": [
      "呼叫函數(x**2)+(4*x)+6 38\n"
     ]
    }
   ],
   "source": [
    "# x^2+4x+6\n",
    "\n",
    "def polyequ(x):\n",
    "    return(x**2)+(4*x)+6\n",
    "    \n",
    "sample=4\n",
    "result=polyequ(sample)\n",
    "print('呼叫函數(x**2)+(4*x)+6', result)"
   ]
  },
  {
   "cell_type": "code",
   "execution_count": 19,
   "id": "22fafb2f-6fd4-48ef-8064-4ba5b6fdd7ba",
   "metadata": {},
   "outputs": [
    {
     "name": "stdout",
     "output_type": "stream",
     "text": [
      "6*x\n",
      "12.0\n"
     ]
    },
    {
     "name": "stderr",
     "output_type": "stream",
     "text": [
      "C:\\Users\\ivan\\AppData\\Local\\Temp\\ipykernel_428\\3430527049.py:8: DeprecationWarning: scipy.misc.derivative is deprecated in SciPy v1.10.0; and will be completely removed in SciPy v1.12.0. You may consider using findiff: https://github.com/maroba/findiff or numdifftools: https://github.com/pbrod/numdifftools\n",
      "  print(derivative(f, 2))\n"
     ]
    }
   ],
   "source": [
    "import sympy as sp\n",
    "x = sp.Symbol('x')\n",
    "print(sp.diff(3*x**2+1, x))\n",
    "\n",
    "from scipy.misc import derivative\n",
    "def f(x):\n",
    "    return 3*x**2+1\n",
    "print(derivative(f, 2))"
   ]
  },
  {
   "cell_type": "code",
   "execution_count": 20,
   "id": "af02c699-b27c-457e-9838-69729477e5cb",
   "metadata": {},
   "outputs": [
    {
     "name": "stderr",
     "output_type": "stream",
     "text": [
      "C:\\Users\\ivan\\AppData\\Local\\Temp\\ipykernel_428\\2517517944.py:2: DeprecationWarning: scipy.misc.derivative is deprecated in SciPy v1.10.0; and will be completely removed in SciPy v1.12.0. You may consider using findiff: https://github.com/maroba/findiff or numdifftools: https://github.com/pbrod/numdifftools\n",
      "  return derivative(f,x)\n"
     ]
    },
    {
     "name": "stdout",
     "output_type": "stream",
     "text": [
      "12.0\n"
     ]
    },
    {
     "name": "stderr",
     "output_type": "stream",
     "text": [
      "C:\\Users\\ivan\\AppData\\Local\\Temp\\ipykernel_428\\2517517944.py:2: DeprecationWarning: scipy.misc.derivative is deprecated in SciPy v1.10.0; and will be completely removed in SciPy v1.12.0. You may consider using findiff: https://github.com/maroba/findiff or numdifftools: https://github.com/pbrod/numdifftools\n",
      "  return derivative(f,x)\n"
     ]
    },
    {
     "data": {
      "text/plain": [
       "[<matplotlib.lines.Line2D at 0x2a19001c2d0>]"
      ]
     },
     "execution_count": 20,
     "metadata": {},
     "output_type": "execute_result"
    },
    {
     "data": {
      "image/png": "[encoded data removed]",
      "text/plain": [
       "<Figure size 640x480 with 1 Axes>"
      ]
     },
     "metadata": {},
     "output_type": "display_data"
    }
   ],
   "source": [
    "def d(x):\n",
    "    return derivative(f,x)\n",
    "\n",
    "print(d(2))\n",
    "\n",
    "%matplotlib inline\n",
    "import matplotlib.pyplot as plt\n",
    "import numpy as np\n",
    "\n",
    "y=np.linspace(-3,3)\n",
    "plt.plot(y,f(y))\n",
    "plt.plot(y,d(y))"
   ]
  },
  {
   "cell_type": "code",
   "execution_count": 21,
   "id": "fea60962-db92-4bb4-9b2d-a97c530ac194",
   "metadata": {},
   "outputs": [
    {
     "name": "stdin",
     "output_type": "stream",
     "text": [
      "Please input dx= 4\n"
     ]
    },
    {
     "name": "stdout",
     "output_type": "stream",
     "text": [
      "area= 20.0\n"
     ]
    }
   ],
   "source": [
    "import numpy as np\n",
    "\n",
    "dx=float(input('Please input dx='))\n",
    "area=0\n",
    "y=0\n",
    "for x in np.arange(2,5,dx):\n",
    "    y=(x**2)+1\n",
    "    area=area+(y*dx)\n",
    "print('area=',area)"
   ]
  },
  {
   "cell_type": "code",
   "execution_count": 23,
   "id": "f39775c8-32e6-4a55-81c1-f00638ffa74b",
   "metadata": {},
   "outputs": [
    {
     "data": {
      "text/latex": [
       "$\\displaystyle 1.0 x^{3} + 1.0 x$"
      ],
      "text/plain": [
       "1.0*x**3 + 1.0*x"
      ]
     },
     "execution_count": 23,
     "metadata": {},
     "output_type": "execute_result"
    }
   ],
   "source": [
    "import sympy as sp\n",
    "x=sp.Symbol('x')\n",
    "sp.integrate(3.0*x**2+1,x)"
   ]
  },
  {
   "cell_type": "code",
   "execution_count": 25,
   "id": "99d06630-293b-4285-b58d-f86acdcbb854",
   "metadata": {},
   "outputs": [
    {
     "name": "stdout",
     "output_type": "stream",
     "text": [
      "10.000000000000002\n"
     ]
    }
   ],
   "source": [
    "from scipy.integrate import quad\n",
    "def f(x):\n",
    "    return 3*x**2+1\n",
    "\n",
    "i=quad(f,0,2)\n",
    "print(i[0])"
   ]
  },
  {
   "cell_type": "code",
   "execution_count": 26,
   "id": "fcd3ec54-d67f-4549-81ea-cd00838d4128",
   "metadata": {},
   "outputs": [
    {
     "data": {
      "text/latex": [
       "$\\displaystyle - 0.333333333333333 \\cos{\\left(3.0 x \\right)}$"
      ],
      "text/plain": [
       "-0.333333333333333*cos(3.0*x)"
      ]
     },
     "execution_count": 26,
     "metadata": {},
     "output_type": "execute_result"
    }
   ],
   "source": [
    "import sympy as sp\n",
    "x=sp.Symbol('x')\n",
    "sp.integrate(sp.sin(3.0*x),x)"
   ]
  },
  {
   "cell_type": "code",
   "execution_count": 27,
   "id": "9b080f75-2ecb-4038-b420-1d1c0291ffcc",
   "metadata": {},
   "outputs": [
    {
     "name": "stdout",
     "output_type": "stream",
     "text": [
      "0.29943976718048754\n"
     ]
    }
   ],
   "source": [
    "from scipy .integrate import quad\n",
    "import numpy as np\n",
    "\n",
    "def f(x):\n",
    "    return np.exp(-x)*np.sin(3*x)\n",
    "\n",
    "i=quad(f,0,2*np.pi)\n",
    "print(i[0])"
   ]
  },
  {
   "cell_type": "code",
   "execution_count": 28,
   "id": "93e76466-bb46-484b-a9c9-618857b1d0f7",
   "metadata": {},
   "outputs": [],
   "source": [
    "import numpy as np"
   ]
  },
  {
   "cell_type": "code",
   "execution_count": 29,
   "id": "7131ad59-dcd5-4911-8272-dca193a98c22",
   "metadata": {},
   "outputs": [],
   "source": [
    "A=np.array([[3,-9],[2,4]])"
   ]
  },
  {
   "cell_type": "code",
   "execution_count": 30,
   "id": "541fa7c6-5970-43ad-96f1-d98dae1797a9",
   "metadata": {},
   "outputs": [
    {
     "name": "stdout",
     "output_type": "stream",
     "text": [
      "[[ 3 -9]\n",
      " [ 2  4]]\n"
     ]
    }
   ],
   "source": [
    "print(A)"
   ]
  },
  {
   "cell_type": "code",
   "execution_count": 31,
   "id": "4b66929d-22d0-4692-84ad-d562f23fb25f",
   "metadata": {},
   "outputs": [],
   "source": [
    "B=np.array([-42,2])"
   ]
  },
  {
   "cell_type": "code",
   "execution_count": 32,
   "id": "d330704b-2e3c-45cc-95cf-99ef173ae0db",
   "metadata": {},
   "outputs": [],
   "source": [
    "Z= np.linalg.solve(A,B)"
   ]
  },
  {
   "cell_type": "code",
   "execution_count": 33,
   "id": "e4226fe3-e5d0-49d1-9351-f4c3f5901902",
   "metadata": {},
   "outputs": [
    {
     "name": "stdout",
     "output_type": "stream",
     "text": [
      "[-5.  3.]\n"
     ]
    }
   ],
   "source": [
    "print(Z)"
   ]
  },
  {
   "cell_type": "code",
   "execution_count": 35,
   "id": "00e99e2d-f162-406b-a941-a28ce6290809",
   "metadata": {},
   "outputs": [],
   "source": [
    "M=np.array([[1,-2,-1],[2,2,-1],[-1,-1,2]])"
   ]
  },
  {
   "cell_type": "code",
   "execution_count": 36,
   "id": "dc9d256e-a6b8-4f98-b3d1-f1eb9f01337c",
   "metadata": {},
   "outputs": [
    {
     "name": "stdout",
     "output_type": "stream",
     "text": [
      "[[ 1 -2 -1]\n",
      " [ 2  2 -1]\n",
      " [-1 -1  2]]\n"
     ]
    }
   ],
   "source": [
    "print(M)"
   ]
  },
  {
   "cell_type": "code",
   "execution_count": 37,
   "id": "87e91c84-e8dc-4445-8670-55d549d47d32",
   "metadata": {},
   "outputs": [],
   "source": [
    "c=np.array([6,1,1])"
   ]
  },
  {
   "cell_type": "code",
   "execution_count": 38,
   "id": "086ba653-0704-4c95-92c1-b01d7b38f66a",
   "metadata": {},
   "outputs": [],
   "source": [
    "y=np.linalg.solve(M,c)"
   ]
  },
  {
   "cell_type": "code",
   "execution_count": 39,
   "id": "2c902761-72fa-4984-8dd3-a374ad5532f4",
   "metadata": {},
   "outputs": [
    {
     "name": "stdout",
     "output_type": "stream",
     "text": [
      "[ 3. -2.  1.]\n"
     ]
    }
   ],
   "source": [
    "print(y)"
   ]
  },
  {
   "cell_type": "code",
   "execution_count": null,
   "id": "b7f970ab-4804-4a82-a5e7-12551a58e654",
   "metadata": {},
   "outputs": [],
   "source": []
  }
 ],
 "metadata": {
  "kernelspec": {
   "display_name": "Python 3 (ipykernel)",
   "language": "python",
   "name": "python3"
  },
  "language_info": {
   "codemirror_mode": {
    "name": "ipython",
    "version": 3
   },
   "file_extension": ".py",
   "mimetype": "text/x-python",
   "name": "python",
   "nbconvert_exporter": "python",
   "pygments_lexer": "ipython3",
   "version": "3.11.7"
  }
 },
 "nbformat": 4,
 "nbformat_minor": 5
}
