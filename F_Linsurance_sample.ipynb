{
 "cells": [
  {
   "cell_type": "code",
   "execution_count": 1,
   "id": "7a422e20-0480-48a3-a1b2-6b762fb21495",
   "metadata": {},
   "outputs": [
    {
     "name": "stdout",
     "output_type": "stream",
     "text": [
      "Today's fruit is :Apple\n"
     ]
    }
   ],
   "source": [
    "# Choice fruits randomly\n",
    "\n",
    "import random\n",
    "fruits=['Apple','Orange','Banana','Pear','Tomato']\n",
    "cf=random.choice(fruits)\n",
    "\n",
    "print(\"Today's fruit is :\" + cf)"
   ]
  },
  {
   "cell_type": "code",
   "execution_count": 2,
   "id": "dcadef80-ee17-4f16-ab60-751f9a466a6d",
   "metadata": {},
   "outputs": [
    {
     "name": "stdin",
     "output_type": "stream",
     "text": [
      "請輸入景氣對策信號綜合分數 29\n"
     ]
    },
    {
     "name": "stdout",
     "output_type": "stream",
     "text": [
      "綠燈\n"
     ]
    }
   ],
   "source": [
    "# 景氣對策信號\n",
    "\n",
    "score=int(input('請輸入景氣對策信號綜合分數'))\n",
    "if score>=45 or score <9:\n",
    "    print('錯誤')\n",
    "elif score>=37:\n",
    "    print('紅燈')\n",
    "elif score>=31:\n",
    "    print('黃紅燈')\n",
    "elif score>=22:\n",
    "    print('綠燈')\n",
    "elif score>=16:\n",
    "    print('黃藍燈')\n",
    "elif score>=9:\n",
    "    print('藍燈')"
   ]
  },
  {
   "cell_type": "code",
   "execution_count": 3,
   "id": "bf61200c-38a3-48e8-8da6-5c6c03d85862",
   "metadata": {},
   "outputs": [
    {
     "name": "stdin",
     "output_type": "stream",
     "text": [
      "請輸入淨年所得額: 5000000\n"
     ]
    },
    {
     "name": "stdout",
     "output_type": "stream",
     "text": [
      "應繳稅額= 1195000.0\n"
     ]
    }
   ],
   "source": [
    "level1=520000*0.05\n",
    "level2=(1170000-520000)*0.12\n",
    "level3=(2350000-1170000)*0.2\n",
    "level4=(4400000-2350000)*0.3\n",
    "level5=(10000000-4400000)*0.4\n",
    "income=int(input('請輸入淨年所得額:'))\n",
    "\n",
    "if income <= 520000:\n",
    "    tax=income*0.05\n",
    "elif income <=1170000:\n",
    "    tax=level+((income-520000)*0.12)\n",
    "    \n",
    "elif income <= 2350000:\n",
    "    tax=level1+leval2+((income-1170000)*0.2)\n",
    "elif income <= 4400000:\n",
    "    tax=level1+level2+level3+((income-2350000)*0.3)\n",
    "elif income <= 10000000:\n",
    "    tax=level1+level2+level3+level4+((income-4400000)*0.4)\n",
    "else :\n",
    "    tax=level1+level2+level3+level4+levle5+((income-10000000)*0.45)\n",
    "\n",
    "print('應繳稅額=',tax)"
   ]
  },
  {
   "cell_type": "code",
   "execution_count": null,
   "id": "19489530-a494-44ec-82f6-f014e4931b06",
   "metadata": {},
   "outputs": [],
   "source": []
  }
 ],
 "metadata": {
  "kernelspec": {
   "display_name": "Python 3 (ipykernel)",
   "language": "python",
   "name": "python3"
  },
  "language_info": {
   "codemirror_mode": {
    "name": "ipython",
    "version": 3
   },
   "file_extension": ".py",
   "mimetype": "text/x-python",
   "name": "python",
   "nbconvert_exporter": "python",
   "pygments_lexer": "ipython3",
   "version": "3.11.7"
  }
 },
 "nbformat": 4,
 "nbformat_minor": 5
}
